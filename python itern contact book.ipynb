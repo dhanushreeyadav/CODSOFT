{
 "cells": [
  {
   "cell_type": "code",
   "execution_count": null,
   "id": "1b81a21d",
   "metadata": {},
   "outputs": [
    {
     "name": "stdout",
     "output_type": "stream",
     "text": [
      "1 . Add New Contact \n",
      " 2. Search Contact \n",
      " 3. Display Contact\n",
      " 4.Edit Contact \n",
      " 5.Delete Contact\n",
      " 6.Exit\n",
      " Enter Your Choice1\n",
      "Enter the Contact Name::aditya\n",
      "Enter the mobile Number::9989876327\n",
      "1 . Add New Contact \n",
      " 2. Search Contact \n",
      " 3. Display Contact\n",
      " 4.Edit Contact \n",
      " 5.Delete Contact\n",
      " 6.Exit\n",
      " Enter Your Choice2\n",
      "Enter the contact Name::aditya\n",
      "aditya  's contact number is  9989876327\n"
     ]
    }
   ],
   "source": [
    "contact={}\n",
    "\n",
    "\n",
    "def display_():\n",
    "    print(\"Name\\t\\tContact Number\")\n",
    "    for key in contact:\n",
    "        print(\"{}\\t\\t{}\".format(key,contact.get(key)))\n",
    "while True:\n",
    "    choice=int(input(\"1 . Add New Contact \\n 2. Search Contact \\n 3. Display Contact\\n 4.Edit Contact \\n 5.Delete Contact\\n 6.Exit\\n Enter Your Choice\"))\n",
    "    if choice==1:\n",
    "        name=input(\"Enter the Contact Name::\")\n",
    "        phone= input(\"Enter the mobile Number::\")\n",
    "        contact[name]=phone\n",
    "    elif choice==2:\n",
    "        search_name=input (\"Enter the contact Name::\")\n",
    "        if search_name in contact:\n",
    "            print(search_name,\" 's contact number is \",contact[search_name])\n",
    "        else:\n",
    "            print(\"Name is not found in the contact book\")\n",
    "    elif choice==3:\n",
    "        if not contact:\n",
    "            print(\"Empty contact book\")\n",
    "        else:\n",
    "            display_()\n",
    "    elif choice==4:\n",
    "        edit_contact=input(\"Enter the contact to be edited::\")\n",
    "        if edit_contact in contact:\n",
    "            phone=input(\"Enter mobile number::\")\n",
    "            contact[edit_contact]=phone\n",
    "            print(\"contact updated\")\n",
    "            display_()\n",
    "        else:\n",
    "            print(\"Name is not found in the contact book\")\n",
    "    elif choice==5:\n",
    "        del_contact=input(\"Enter the contact to be deleted::\")\n",
    "        if del_contact in contact:\n",
    "            confirm =input(\"Do you want to delet this contact y/n?\")\n",
    "            if confirm =='y' or confirm=='y':\n",
    "                contact.pop(del_contact)\n",
    "            display_()\n",
    "        else:\n",
    "            print(\"name is not found in contact book\")\n",
    "    else:\n",
    "        break\n",
    "        "
   ]
  },
  {
   "cell_type": "code",
   "execution_count": null,
   "id": "c056b959",
   "metadata": {},
   "outputs": [],
   "source": []
  }
 ],
 "metadata": {
  "kernelspec": {
   "display_name": "Python 3 (ipykernel)",
   "language": "python",
   "name": "python3"
  },
  "language_info": {
   "codemirror_mode": {
    "name": "ipython",
    "version": 3
   },
   "file_extension": ".py",
   "mimetype": "text/x-python",
   "name": "python",
   "nbconvert_exporter": "python",
   "pygments_lexer": "ipython3",
   "version": "3.11.4"
  }
 },
 "nbformat": 4,
 "nbformat_minor": 5
}
